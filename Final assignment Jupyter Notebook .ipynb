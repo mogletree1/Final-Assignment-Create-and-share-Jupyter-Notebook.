{
 "cells": [
  {
   "cell_type": "markdown",
   "id": "a65dfa8e",
   "metadata": {},
   "source": [
    "# Data Science Tools and Ecosystem"
   ]
  },
  {
   "cell_type": "markdown",
   "id": "a00fe152",
   "metadata": {},
   "source": [
    "In this notebook, Data Science Tools and Ecosystems are summarized "
   ]
  },
  {
   "cell_type": "markdown",
   "id": "9a5db2ff",
   "metadata": {},
   "source": [
    "**Objectives:**\n",
    "\n",
    "- List popular languages used in Data Science \n",
    "- List commonly used libraries in Data Science \n",
    "- List some arithmitic examples "
   ]
  },
  {
   "cell_type": "markdown",
   "id": "719997ec",
   "metadata": {},
   "source": [
    "Some of the popular languages that Data Scientists use are:\n",
    "1. Python\n",
    "2. R \n",
    "3. SQL\n",
    "4. Scala\n",
    "5. JavaPowered\n",
    "6. C++\n",
    "7. Julia\n",
    "8. Javascript\n",
    "9. php\n",
    "10. GO\n",
    "11. Ruby\n",
    "12. visualbasic"
   ]
  },
  {
   "cell_type": "markdown",
   "id": "7c040b4d",
   "metadata": {},
   "source": [
    "Some of the commonly used libraries used by Data Scientists include:\n",
    "\n",
    "1. Pandas\n",
    "2. Numpy\n",
    "3. Matplotlib\n",
    "4. Seaborn\n",
    "5. Scikit-learn\n",
    "6. Keras\n",
    "7. Tensorflow\n",
    "8. PyTorch\n",
    "9. ApacheSpark\n",
    "10. Vegas\n",
    "11. BigDL\n",
    "12. ggplot2\n",
    "\n"
   ]
  },
  {
   "cell_type": "markdown",
   "id": "a80eb987",
   "metadata": {},
   "source": [
    "|Data Science Tools|\n",
    "|------------------|\n",
    "|PyCharm           |\n",
    "|Spyder            |\n",
    "|Visual Studio Code|"
   ]
  },
  {
   "cell_type": "markdown",
   "id": "5be48adf",
   "metadata": {},
   "source": [
    "### Below are a few examples of evaluating arithmatic expressions in Python"
   ]
  },
  {
   "cell_type": "code",
   "execution_count": 3,
   "id": "267d1363",
   "metadata": {},
   "outputs": [
    {
     "data": {
      "text/plain": [
       "17"
      ]
     },
     "execution_count": 3,
     "metadata": {},
     "output_type": "execute_result"
    }
   ],
   "source": [
    "# This is a simple arithmetic expression to multiply then add integers\n",
    "\n",
    "(3*4)+5"
   ]
  },
  {
   "cell_type": "code",
   "execution_count": 4,
   "id": "74e3afec",
   "metadata": {},
   "outputs": [
    {
     "data": {
      "text/plain": [
       "3.3333333333333335"
      ]
     },
     "execution_count": 4,
     "metadata": {},
     "output_type": "execute_result"
    }
   ],
   "source": [
    "# This will convert 200 minutes into hours by dividing 60\n",
    "\n",
    "(200/60)\n"
   ]
  },
  {
   "cell_type": "markdown",
   "id": "0de368c3",
   "metadata": {},
   "source": [
    "## Author\n",
    "Michael Ogletree "
   ]
  }
 ],
 "metadata": {
  "kernelspec": {
   "display_name": "Python 3 (ipykernel)",
   "language": "python",
   "name": "python3"
  },
  "language_info": {
   "codemirror_mode": {
    "name": "ipython",
    "version": 3
   },
   "file_extension": ".py",
   "mimetype": "text/x-python",
   "name": "python",
   "nbconvert_exporter": "python",
   "pygments_lexer": "ipython3",
   "version": "3.11.4"
  }
 },
 "nbformat": 4,
 "nbformat_minor": 5
}
